{
 "cells": [
  {
   "cell_type": "markdown",
   "id": "34b59135-61d1-45e1-ac93-93e5fab9308e",
   "metadata": {
    "tags": []
   },
   "source": [
    "# Data Science Tools and Ecosystem"
   ]
  },
  {
   "cell_type": "markdown",
   "id": "def27145-6e77-4398-8ad8-1837a79a1b0d",
   "metadata": {
    "tags": []
   },
   "source": [
    "## Introduction\n",
    "In this notebook, Data Science Tools and Ecosystem are summarized"
   ]
  },
  {
   "cell_type": "markdown",
   "id": "45876bdc-c9cf-4bdd-8c6b-ce1bb3f8b349",
   "metadata": {},
   "source": [
    "# Objective:\n",
    "\n",
    "- Explore popular languages for Data Science\n",
    "- Understand Key concepts of machine learning and its applications\n",
    "- Showcase of arthmatic expressions in Python\n",
    "- Data Science Tools\n"
   ]
  },
  {
   "cell_type": "markdown",
   "id": "aac254aa-85e2-406d-a23b-4f6283e773a6",
   "metadata": {},
   "source": [
    "# Some of the popular languages that Data Scientists use are: \n",
    "\n",
    "1. Python \n",
    "\n",
    "2. R\n",
    "\n",
    "3. SQL \n",
    "\n",
    "4. Julia"
   ]
  },
  {
   "cell_type": "markdown",
   "id": "f3bf00a1-dc65-4a44-9571-801624c98c0b",
   "metadata": {},
   "source": [
    "# Data Science Libraries\n",
    "\n",
    "Some of the commonly used libraries used by Data Scientists include:\n",
    "\n",
    "1. Pandas\n",
    "2. Matplotlib\n",
    "3. Scikit-Learn\n",
    "4. TensorFlow\n",
    "5. NumPy"
   ]
  },
  {
   "cell_type": "markdown",
   "id": "d1200249-bdbf-4846-90aa-df42bbaa7f40",
   "metadata": {},
   "source": [
    "# Data Science Tools\n",
    "\n",
    "| Data Science Tools |\n",
    "|--------------------|\n",
    "| Jupyter Notebook   |\n",
    "| R Studio           |\n",
    "| VS code with Python       |\n"
   ]
  },
  {
   "cell_type": "markdown",
   "id": "5cc26126-23dc-442a-9471-6ad3f6f6610d",
   "metadata": {},
   "source": [
    "# Below are a few examples of evaluating arithmetic expressions in Python "
   ]
  },
  {
   "cell_type": "markdown",
   "id": "9d5592a2-d741-48e3-ae58-99b7fc3f62de",
   "metadata": {},
   "source": [
    "This is a simple arithmetic expression to multiply then add integers "
   ]
  },
  {
   "cell_type": "code",
   "execution_count": 1,
   "id": "79fea277-1ae5-4e18-8d3f-243561c232bf",
   "metadata": {},
   "outputs": [
    {
     "data": {
      "text/plain": [
       "17"
      ]
     },
     "execution_count": 1,
     "metadata": {},
     "output_type": "execute_result"
    }
   ],
   "source": [
    "(3*4)+5"
   ]
  },
  {
   "cell_type": "markdown",
   "id": "d7d2c92a-f412-441e-83b5-8961468a1ef9",
   "metadata": {},
   "source": [
    "This will convert 200 minutes to hours by dividing by 60"
   ]
  },
  {
   "cell_type": "code",
   "execution_count": 2,
   "id": "89dcb9b5-e97c-4179-9e64-0dd9f3e5d706",
   "metadata": {},
   "outputs": [
    {
     "data": {
      "text/plain": [
       "3.3333333333333335"
      ]
     },
     "execution_count": 2,
     "metadata": {},
     "output_type": "execute_result"
    }
   ],
   "source": [
    "minutes = 200 \n",
    "hours = 60\n",
    "minutes/hours"
   ]
  },
  {
   "cell_type": "markdown",
   "id": "31bf23a7-8b59-496b-8192-894b24ba64ef",
   "metadata": {},
   "source": [
    "## Author "
   ]
  },
  {
   "cell_type": "markdown",
   "id": "951126a4-6ed8-439e-b174-3d0fdf175a12",
   "metadata": {},
   "source": [
    "Priyal Patel "
   ]
  }
 ],
 "metadata": {
  "kernelspec": {
   "display_name": "Python 3 (ipykernel)",
   "language": "python",
   "name": "python3"
  },
  "language_info": {
   "codemirror_mode": {
    "name": "ipython",
    "version": 3
   },
   "file_extension": ".py",
   "mimetype": "text/x-python",
   "name": "python",
   "nbconvert_exporter": "python",
   "pygments_lexer": "ipython3",
   "version": "3.11.9"
  }
 },
 "nbformat": 4,
 "nbformat_minor": 5
}
